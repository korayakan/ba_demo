{
  "nbformat": 4,
  "nbformat_minor": 0,
  "metadata": {
    "colab": {
      "name": "ba_demo.ipynb",
      "version": "0.3.2",
      "provenance": []
    },
    "language_info": {
      "codemirror_mode": {
        "name": "ipython",
        "version": 3
      },
      "file_extension": ".py",
      "mimetype": "text/x-python",
      "name": "python",
      "nbconvert_exporter": "python",
      "pygments_lexer": "ipython3",
      "version": "3.7.3"
    },
    "kernelspec": {
      "display_name": "Python 3",
      "language": "python",
      "name": "python3"
    }
  },
  "cells": [
    {
      "cell_type": "code",
      "metadata": {
        "id": "oxQHCo-GUata",
        "colab_type": "code",
        "colab": {}
      },
      "source": [
        "!pip install -q fuzzywuzzy[speedup]"
      ],
      "execution_count": 0,
      "outputs": []
    },
    {
      "cell_type": "code",
      "metadata": {
        "id": "UkWXx1WwUQNM",
        "colab_type": "code",
        "colab": {}
      },
      "source": [
        "![ -d \"ba_dataset\" ] && echo \"Dataset directory exists.\"\n",
        "![ ! -d \"ba_dataset\" ] && echo \"Dataset directory DOES NOT exist. Cloning from Github...\" && git clone -q https://github.com/korayakan/ba_dataset.git && rm -rf ba_dataset/.git && echo \"Done\""
      ],
      "execution_count": 0,
      "outputs": []
    },
    {
      "cell_type": "code",
      "metadata": {
        "id": "xGQ7uShLUQNV",
        "colab_type": "code",
        "colab": {}
      },
      "source": [
        "!echo \"Cloning module code from Github...\" && rm -rf ba && git clone -q https://github.com/korayakan/ba.git && rm -rf ba/.git && echo \"Done\""
      ],
      "execution_count": 0,
      "outputs": []
    },
    {
      "cell_type": "code",
      "metadata": {
        "id": "fftPCgjtUQNX",
        "colab_type": "code",
        "colab": {}
      },
      "source": [
        "from ba.module.train import train\n",
        "train(10)"
      ],
      "execution_count": 0,
      "outputs": []
    },
    {
      "cell_type": "code",
      "metadata": {
        "id": "51XTBaRJUQNZ",
        "colab_type": "code",
        "colab": {}
      },
      "source": [
        "from ba.module.predict import predict\n",
        "predict('X00016469612')"
      ],
      "execution_count": 0,
      "outputs": []
    }
  ]
}