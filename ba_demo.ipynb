{
  "nbformat": 4,
  "nbformat_minor": 0,
  "metadata": {
    "colab": {
      "name": "ba_demo.ipynb",
      "version": "0.3.2",
      "provenance": []
    },
    "language_info": {
      "codemirror_mode": {
        "name": "ipython",
        "version": 3
      },
      "file_extension": ".py",
      "mimetype": "text/x-python",
      "name": "python",
      "nbconvert_exporter": "python",
      "pygments_lexer": "ipython3",
      "version": "3.7.3"
    },
    "kernelspec": {
      "name": "python3",
      "display_name": "Python 3"
    },
    "accelerator": "GPU"
  },
  "cells": [
    {
      "cell_type": "code",
      "metadata": {
        "id": "oxQHCo-GUata",
        "colab_type": "code",
        "colab": {}
      },
      "source": [
        "!pip install -q fuzzywuzzy[speedup]"
      ],
      "execution_count": 0,
      "outputs": []
    },
    {
      "cell_type": "code",
      "metadata": {
        "id": "UkWXx1WwUQNM",
        "colab_type": "code",
        "colab": {}
      },
      "source": [
        "![ -d \"ba_dataset\" ] && echo \"Dataset directory exists.\"\n",
        "![ ! -d \"ba_dataset\" ] && echo \"Dataset directory DOES NOT exist. Cloning from Github...\" && git clone -q https://github.com/korayakan/ba_dataset.git && rm -rf ba_dataset/.git && echo \"Done\""
      ],
      "execution_count": 0,
      "outputs": []
    },
    {
      "cell_type": "code",
      "metadata": {
        "id": "xGQ7uShLUQNV",
        "colab_type": "code",
        "colab": {}
      },
      "source": [
        "!echo \"Cloning module code from Github...\" && rm -rf ba && git clone -q https://github.com/korayakan/ba.git && rm -rf ba/.git && echo \"Done\""
      ],
      "execution_count": 0,
      "outputs": []
    },
    {
      "cell_type": "code",
      "metadata": {
        "id": "6E9nf21qOQRm",
        "colab_type": "code",
        "colab": {}
      },
      "source": [
        "from datetime import datetime, timezone\n",
        "import time\n",
        "start = time.time()\n",
        "now = datetime.now(timezone.utc).astimezone()\n",
        "print('start model training at {}'.format(now))"
      ],
      "execution_count": 0,
      "outputs": []
    },
    {
      "cell_type": "code",
      "metadata": {
        "id": "fftPCgjtUQNX",
        "colab_type": "code",
        "colab": {}
      },
      "source": [
        "from ba.module.train import train\n",
        "train_losses, test_losses = train(1000, print_every = 100, learning_rate = 0.05, hidden_size=256, num_of_layers=1)"
      ],
      "execution_count": 0,
      "outputs": []
    },
    {
      "cell_type": "code",
      "metadata": {
        "id": "gXwP9_E9OQ_V",
        "colab_type": "code",
        "colab": {}
      },
      "source": [
        "now = datetime.now(timezone.utc).astimezone()\n",
        "done = time.time()\n",
        "elapsed = int(round(done - start))\n",
        "print('training finished at {}, duration was {} min {} sec'.format(now, int(round(elapsed / 60)), elapsed % 60))"
      ],
      "execution_count": 0,
      "outputs": []
    },
    {
      "cell_type": "code",
      "metadata": {
        "id": "0MMSN1zxdJXY",
        "colab_type": "code",
        "colab": {}
      },
      "source": [
        "%matplotlib inline\n",
        "%config InlineBackend.figure_format = 'retina'\n",
        "import matplotlib.pyplot as plt\n",
        "\n",
        "plt.plot(train_losses, label='Training loss')\n",
        "plt.plot(test_losses, label='Validation loss')\n",
        "plt.legend(frameon=False)\n",
        "plt.show()"
      ],
      "execution_count": 0,
      "outputs": []
    },
    {
      "cell_type": "code",
      "metadata": {
        "id": "51XTBaRJUQNZ",
        "colab_type": "code",
        "colab": {}
      },
      "source": [
        "from ba.module.predict import predict\n",
        "predict('X00016469612')"
      ],
      "execution_count": 0,
      "outputs": []
    }
  ]
}